{
 "cells": [
  {
   "cell_type": "markdown",
   "id": "db76d720-c53d-466f-ae81-ef845e3dd133",
   "metadata": {},
   "source": [
    "<h1>Fetch and Process Documents from JSON URL</h1>"
   ]
  },
  {
   "cell_type": "code",
   "execution_count": 1,
   "id": "4ed6840c-6df8-4a3d-8de2-7084e30a6455",
   "metadata": {},
   "outputs": [],
   "source": [
    "import requests \n",
    "\n",
    "# Fetch the JSON data from the specified URL, parse it, and iterate over each course in the data.\n",
    "# For each course, iterate over its documents, add the course name to each document, \n",
    "# and store the updated documents in a list.\n",
    "\n",
    "docs_url = 'https://github.com/DataTalksClub/llm-zoomcamp/blob/main/01-intro/documents.json?raw=1'\n",
    "docs_response = requests.get(docs_url)\n",
    "documents_raw = docs_response.json()\n",
    "\n",
    "documents = []\n",
    "\n",
    "for course in documents_raw:\n",
    "    course_name = course['course']\n",
    "\n",
    "    for doc in course['documents']:\n",
    "        doc['course'] = course_name\n",
    "        documents.append(doc)\n"
   ]
  },
  {
   "cell_type": "markdown",
   "id": "58cdeffa-db03-43bd-8669-e10d747ac984",
   "metadata": {},
   "source": [
    "<h1>Elasticsearch Index Creation for Course Questions</h1>"
   ]
  },
  {
   "cell_type": "code",
   "execution_count": 2,
   "id": "19085120-5ff3-468f-bf94-75497a9c91d8",
   "metadata": {},
   "outputs": [],
   "source": [
    "from elasticsearch import Elasticsearch"
   ]
  },
  {
   "cell_type": "code",
   "execution_count": 3,
   "id": "8fbe1232-be49-4f6e-93c9-a51f115f60bc",
   "metadata": {},
   "outputs": [],
   "source": [
    "es_client= Elasticsearch('http://localhost:9200')"
   ]
  },
  {
   "cell_type": "code",
   "execution_count": 4,
   "id": "41fe2440-7ac7-4289-986f-2a1c5704c6ee",
   "metadata": {},
   "outputs": [
    {
     "data": {
      "text/plain": [
       "ObjectApiResponse({'acknowledged': True, 'shards_acknowledged': True, 'index': 'course-questions'})"
      ]
     },
     "execution_count": 4,
     "metadata": {},
     "output_type": "execute_result"
    }
   ],
   "source": [
    "index_settings= {\n",
    "    \"settings\": {\n",
    "        \"number_of_shards\": 1,\n",
    "        \"number_of_replicas\": 0\n",
    "    },\n",
    "    \"mappings\": {\n",
    "        \"properties\": {\n",
    "            \"text\": {\"type\": \"text\"},\n",
    "            \"section\": {\"type\": \"text\"},\n",
    "            \"question\": {\"type\": \"text\"},\n",
    "            \"course\": {\"type\": \"keyword\"} \n",
    "        }\n",
    "    }\n",
    "}\n",
    "\n",
    "index_name = \"course-questions\"\n",
    "es_client.indices.create(index= index_name , body=index_settings)"
   ]
  },
  {
   "cell_type": "markdown",
   "id": "b07ed0c7-6539-419c-9b40-81d62b868f81",
   "metadata": {},
   "source": [
    "<h1>Indexing Documents into Elasticsearch and Performing a Search Query</h1>"
   ]
  },
  {
   "cell_type": "code",
   "execution_count": 5,
   "id": "8c26c00c-0b9c-4ae7-a112-394dc0f79746",
   "metadata": {},
   "outputs": [],
   "source": [
    "from tqdm import tqdm"
   ]
  },
  {
   "cell_type": "code",
   "execution_count": 6,
   "id": "79f582c6-ee0a-406d-8b83-19234a1a1f59",
   "metadata": {},
   "outputs": [
    {
     "name": "stderr",
     "output_type": "stream",
     "text": [
      "100%|███████████████████████████████████████████████████████████████████████████████████████████████████████████████████████████████| 948/948 [00:23<00:00, 39.89it/s]\n"
     ]
    }
   ],
   "source": [
    "for doc in tqdm(documents) :\n",
    "    es_client.index(index= index_name , document=doc )"
   ]
  },
  {
   "cell_type": "code",
   "execution_count": 7,
   "id": "004517e5-5802-4811-a43f-b724648cf156",
   "metadata": {},
   "outputs": [],
   "source": [
    "query= 'I just discovered the course. Can I still join it?'"
   ]
  },
  {
   "cell_type": "code",
   "execution_count": 8,
   "id": "319851c9-0acb-4c0a-9853-439417ceb3f3",
   "metadata": {},
   "outputs": [],
   "source": [
    "  search_query={\n",
    "    \"size\": 5,\n",
    "    \"query\": {\n",
    "        \"bool\": {\n",
    "            \"must\": {\n",
    "                \"multi_match\": {\n",
    "                    \"query\": query,\n",
    "                    \"fields\": [\"question^4\", \"text\"],\n",
    "                    \"type\": \"best_fields\"\n",
    "                }\n",
    "            },\n",
    "            \"filter\": {\n",
    "                \"term\": {\n",
    "                    \"course\": \"data-engineering-zoomcamp\"\n",
    "                }\n",
    "            }\n",
    "        }\n",
    "    }\n",
    "}"
   ]
  },
  {
   "cell_type": "code",
   "execution_count": 9,
   "id": "c847a7c5-4d47-4152-a998-7dd2e59815e9",
   "metadata": {},
   "outputs": [],
   "source": [
    "response= es_client.search(index=index_name, body=search_query)"
   ]
  },
  {
   "cell_type": "code",
   "execution_count": 10,
   "id": "28a4036b-32bb-40ac-b34f-6ad4bbe025e6",
   "metadata": {},
   "outputs": [
    {
     "data": {
      "text/plain": [
       "[{'_index': 'course-questions',\n",
       "  '_id': 'IpiuOpABAJ2DeV4MSrBP',\n",
       "  '_score': 96.28143,\n",
       "  '_source': {'text': \"Yes, even if you don't register, you're still eligible to submit the homeworks.\\nBe aware, however, that there will be deadlines for turning in the final projects. So don't leave everything for the last minute.\",\n",
       "   'section': 'General course-related questions',\n",
       "   'question': 'Course - Can I still join the course after the start date?',\n",
       "   'course': 'data-engineering-zoomcamp'}},\n",
       " {'_index': 'course-questions',\n",
       "  '_id': 'J5iuOpABAJ2DeV4MSrDb',\n",
       "  '_score': 71.28208,\n",
       "  '_source': {'text': 'Yes, we will keep all the materials after the course finishes, so you can follow the course at your own pace after it finishes.\\nYou can also continue looking at the homeworks and continue preparing for the next cohort. I guess you can also start working on your final capstone project.',\n",
       "   'section': 'General course-related questions',\n",
       "   'question': 'Course - Can I follow the course after it finishes?',\n",
       "   'course': 'data-engineering-zoomcamp'}},\n",
       " {'_index': 'course-questions',\n",
       "  '_id': 'JJiuOpABAJ2DeV4MSrCH',\n",
       "  '_score': 57.80007,\n",
       "  '_source': {'text': 'You can start by installing and setting up all the dependencies and requirements:\\nGoogle cloud account\\nGoogle Cloud SDK\\nPython 3 (installed with Anaconda)\\nTerraform\\nGit\\nLook over the prerequisites and syllabus to see if you are comfortable with these subjects.',\n",
       "   'section': 'General course-related questions',\n",
       "   'question': 'Course - What can I do before the course starts?',\n",
       "   'course': 'data-engineering-zoomcamp'}},\n",
       " {'_index': 'course-questions',\n",
       "  '_id': 'KJiuOpABAJ2DeV4MSrD2',\n",
       "  '_score': 56.226944,\n",
       "  '_source': {'text': 'Yes, the slack channel remains open and you can ask questions there. But always sDocker containers exit code w search the channel first and second, check the FAQ (this document), most likely all your questions are already answered here.\\nYou can also tag the bot @ZoomcampQABot to help you conduct the search, but don’t rely on its answers 100%, it is pretty good though.',\n",
       "   'section': 'General course-related questions',\n",
       "   'question': 'Course - Can I get support if I take the course in the self-paced mode?',\n",
       "   'course': 'data-engineering-zoomcamp'}},\n",
       " {'_index': 'course-questions',\n",
       "  '_id': 'I5iuOpABAJ2DeV4MSrBp',\n",
       "  '_score': 47.223675,\n",
       "  '_source': {'text': \"You don't need it. You're accepted. You can also just start learning and submitting homework without registering. It is not checked against any registered list. Registration is just to gauge interest before the start date.\",\n",
       "   'section': 'General course-related questions',\n",
       "   'question': 'Course - I have registered for the Data Engineering Bootcamp. When can I expect to receive the confirmation email?',\n",
       "   'course': 'data-engineering-zoomcamp'}}]"
      ]
     },
     "execution_count": 10,
     "metadata": {},
     "output_type": "execute_result"
    }
   ],
   "source": [
    "response['hits']['hits']"
   ]
  },
  {
   "cell_type": "markdown",
   "id": "e39e79e5-fd6b-4618-9f65-60ef13c1e487",
   "metadata": {},
   "source": [
    "<h1>Search and Retrieve Documents from Elasticsearch</h1>"
   ]
  },
  {
   "cell_type": "code",
   "execution_count": 11,
   "id": "222c2d86-be23-4326-9c71-daea4100f45b",
   "metadata": {
    "scrolled": true
   },
   "outputs": [],
   "source": [
    "# Define the search term (one of the multiple choice questions)\n",
    "query = \"How do I debug a docker container?\"\n",
    "\n",
    "# Define the search query to limit results to the 'machine-learning-zoomcamp' course and return 3 results\n",
    "search_query = {\n",
    "    \"size\": 3,  # Return the top 3 search results\n",
    "    \"query\": {\n",
    "        \"bool\": {\n",
    "            \"must\": {\n",
    "                \"multi_match\": {\n",
    "                    \"query\": query,  # The search query you want to use\n",
    "                    \"fields\": [\"question^4\", \"text\"],  # Boost the 'question' field by a factor of 4\n",
    "                    \"type\": \"best_fields\"\n",
    "                }\n",
    "            },\n",
    "            \"filter\": {\n",
    "                \"term\": {\n",
    "                    \"course\": \"machine-learning-zoomcamp\"  # Filter to only include results from this course\n",
    "                }\n",
    "            }\n",
    "        }\n",
    "    }\n",
    "}\n",
    "\n",
    "# Execute the search query\n",
    "response = es_client.search(index=index_name, body=search_query)\n",
    "\n",
    "result_docs = []\n",
    "for hit in response['hits']['hits']:\n",
    "    result_docs.append(hit['_source'])"
   ]
  },
  {
   "cell_type": "code",
   "execution_count": 12,
   "id": "73f161f5-d1d5-4755-baee-c8ab29639d28",
   "metadata": {},
   "outputs": [
    {
     "data": {
      "text/plain": [
       "{'text': 'I wanted to understand how lambda container images work in depth and how lambda functions are initialized, for this reason, I found the following documentation\\nhttps://docs.aws.amazon.com/lambda/latest/dg/images-create.html\\nhttps://docs.aws.amazon.com/lambda/latest/dg/runtimes-api.html\\nAdded by Alejandro aponte',\n",
       " 'section': '9. Serverless Deep Learning',\n",
       " 'question': 'How do Lambda container images work?',\n",
       " 'course': 'machine-learning-zoomcamp'}"
      ]
     },
     "execution_count": 12,
     "metadata": {},
     "output_type": "execute_result"
    }
   ],
   "source": [
    "result_docs[2]['question']"
   ]
  },
  {
   "cell_type": "markdown",
   "id": "7f34d09b-4bbb-4cda-b511-961f90d5a546",
   "metadata": {},
   "source": [
    "<h1>Create Formatted Prompt for Teaching Assistant</h1>"
   ]
  },
  {
   "cell_type": "code",
   "execution_count": 13,
   "id": "e3d2ab47-58f5-4013-bd9b-006bb75cc8b6",
   "metadata": {},
   "outputs": [],
   "source": [
    "prompt_template = \"\"\"\n",
    "You're a course teaching assistant. Answer the QUESTION based on the CONTEXT from the FAQ database.\n",
    "Use only the facts from the CONTEXT when answering the QUESTION.\n",
    "\n",
    "QUESTION: {question}\n",
    "\n",
    "CONTEXT:\n",
    "{context}\n",
    "\"\"\".strip()"
   ]
  },
  {
   "cell_type": "code",
   "execution_count": 14,
   "id": "6c169d7c-d4d5-497c-981f-99bc12ed80d3",
   "metadata": {},
   "outputs": [],
   "source": [
    "context = \"\"\n",
    "    \n",
    "for doc in result_docs:\n",
    "     context = context + f\"section: {doc['section']}\\nquestion: {doc['question']}\\nanswer: {doc['text']}\\n\\n\"\n",
    "\n",
    "prompt=prompt_template.format(question=query, context=context).strip()"
   ]
  },
  {
   "cell_type": "code",
   "execution_count": 15,
   "id": "871fe14b-f77a-48a4-b272-33d1d5a16c03",
   "metadata": {},
   "outputs": [
    {
     "data": {
      "text/plain": [
       "1538"
      ]
     },
     "execution_count": 15,
     "metadata": {},
     "output_type": "execute_result"
    }
   ],
   "source": [
    "len(prompt)"
   ]
  },
  {
   "cell_type": "markdown",
   "id": "2c7647ab-d43b-431c-a061-388bfbbdbecf",
   "metadata": {},
   "source": [
    "<h1>Encode Prompt Using TikToken for GPT-4</h1>"
   ]
  },
  {
   "cell_type": "code",
   "execution_count": 16,
   "id": "78abd63c-0816-4268-8da1-083292baae1b",
   "metadata": {},
   "outputs": [],
   "source": [
    "import tiktoken"
   ]
  },
  {
   "cell_type": "code",
   "execution_count": 17,
   "id": "e8f8a0e8-3fb8-400e-8d34-2c6d6980dd7e",
   "metadata": {},
   "outputs": [],
   "source": [
    "encoding = tiktoken.encoding_for_model(\"gpt-4o\")"
   ]
  },
  {
   "cell_type": "code",
   "execution_count": 18,
   "id": "70162c35-e9c4-4e05-ab14-9c901958e1f0",
   "metadata": {},
   "outputs": [],
   "source": [
    "# Encode the prompt to get the tokens\n",
    "encoded_prompt = encoding.encode(prompt)"
   ]
  },
  {
   "cell_type": "code",
   "execution_count": 19,
   "id": "81177c44-968a-4bde-b4ce-79ca74b6a5b8",
   "metadata": {},
   "outputs": [
    {
     "data": {
      "text/plain": [
       "333"
      ]
     },
     "execution_count": 19,
     "metadata": {},
     "output_type": "execute_result"
    }
   ],
   "source": [
    " len(encoded_prompt)"
   ]
  },
  {
   "cell_type": "markdown",
   "id": "d34ab4f9-3582-4a65-882c-40096906b772",
   "metadata": {},
   "source": [
    "<h1>Communicate with OpenAI's Ollama Chat Service</h1>"
   ]
  },
  {
   "cell_type": "code",
   "execution_count": 20,
   "id": "df7d0099-7f17-41a0-9c33-33141680ee8a",
   "metadata": {},
   "outputs": [],
   "source": [
    "import  ollama"
   ]
  },
  {
   "cell_type": "code",
   "execution_count": 21,
   "id": "750c96fe-9453-4790-9565-c895c489567e",
   "metadata": {},
   "outputs": [],
   "source": [
    "from openai import OpenAI"
   ]
  },
  {
   "cell_type": "code",
   "execution_count": 22,
   "id": "7611fb73-7fa6-46a9-b017-a022a92b77ac",
   "metadata": {},
   "outputs": [],
   "source": [
    "client = OpenAI(\n",
    "    base_url='http://localhost:11434/v1',\n",
    "    api_key='ollama'  # required, but unused\n",
    ")"
   ]
  },
  {
   "cell_type": "code",
   "execution_count": 23,
   "id": "435253a8-98ac-4228-bc15-bf30d84f4b1b",
   "metadata": {},
   "outputs": [],
   "source": [
    "response = client .chat.completions.create(\n",
    "           model=\"phi3\",\n",
    "           messages=[{\"role\":\"user\", \"content\":prompt}]\n",
    "    )"
   ]
  },
  {
   "cell_type": "code",
   "execution_count": 24,
   "id": "5b77d240-bb37-42fe-b4ba-4137feb4e9c1",
   "metadata": {},
   "outputs": [
    {
     "data": {
      "text/plain": [
       "\" To debug a Docker container, you can launch the container image in interactive mode and overriding the entrypoint using:\\n\\ndocker run -it --entrypoint bash <image>\\n\\nIf the container is already running, execute a command in the specific container by first finding its ID with:\\n\\ndocker ps (find the container-id)\\n\\nThen use the following command to enter the container's bash shell for debugging purposes:\\n\\ndocker exec -it <container-id> bash\""
      ]
     },
     "execution_count": 24,
     "metadata": {},
     "output_type": "execute_result"
    }
   ],
   "source": [
    "response.choices[0].message.content"
   ]
  },
  {
   "cell_type": "code",
   "execution_count": null,
   "id": "b4e6d7f1-41bc-46e3-b9dc-dcae5efb9e26",
   "metadata": {},
   "outputs": [],
   "source": []
  }
 ],
 "metadata": {
  "kernelspec": {
   "display_name": "Python 3 (ipykernel)",
   "language": "python",
   "name": "python3"
  },
  "language_info": {
   "codemirror_mode": {
    "name": "ipython",
    "version": 3
   },
   "file_extension": ".py",
   "mimetype": "text/x-python",
   "name": "python",
   "nbconvert_exporter": "python",
   "pygments_lexer": "ipython3",
   "version": "3.11.7"
  }
 },
 "nbformat": 4,
 "nbformat_minor": 5
}
