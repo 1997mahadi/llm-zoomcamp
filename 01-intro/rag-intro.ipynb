{
 "cells": [
  {
   "cell_type": "code",
   "execution_count": 42,
   "id": "3880a7b0-a194-4f62-b400-c8fe1395e9f7",
   "metadata": {},
   "outputs": [],
   "source": [
    "#!wget https://raw.githubusercontent.com/DataTalksClub/llm-zoomcamp/main/01-intro/minsearch.py"
   ]
  },
  {
   "cell_type": "code",
   "execution_count": 43,
   "id": "bb8927fb-73e4-4054-9d96-4f3fe1d8e03c",
   "metadata": {},
   "outputs": [],
   "source": [
    "import minsearch"
   ]
  },
  {
   "cell_type": "code",
   "execution_count": 44,
   "id": "049590a9-fa11-43ec-9961-fb878fdb0340",
   "metadata": {},
   "outputs": [],
   "source": [
    "import json "
   ]
  },
  {
   "cell_type": "code",
   "execution_count": 45,
   "id": "a475e74b-0127-44ea-aa7b-b335677a123f",
   "metadata": {},
   "outputs": [],
   "source": [
    "with open('documents.json', 'rt') as f_in:\n",
    "    docs_raw = json.load(f_in)"
   ]
  },
  {
   "cell_type": "code",
   "execution_count": 46,
   "id": "415a33e2-9739-41de-a0bb-8105d631f2ed",
   "metadata": {},
   "outputs": [],
   "source": [
    "#print(docs_raw)"
   ]
  },
  {
   "cell_type": "code",
   "execution_count": 47,
   "id": "7f0a1515-7571-4aaa-bba0-c9b02df176de",
   "metadata": {},
   "outputs": [],
   "source": [
    "documents= []\n",
    "\n",
    "for course_dict in docs_raw:\n",
    "    for doc in course_dict['documents']:\n",
    "        doc['course']=course_dict['course']\n",
    "        documents.append(doc)\n",
    "    "
   ]
  },
  {
   "cell_type": "code",
   "execution_count": 48,
   "id": "5bae3b33-db32-4354-9ab6-7a52984b3e27",
   "metadata": {},
   "outputs": [],
   "source": [
    "#documents"
   ]
  },
  {
   "cell_type": "code",
   "execution_count": 49,
   "id": "9276eaaf-5036-45e1-a8f0-e9d431773982",
   "metadata": {},
   "outputs": [],
   "source": [
    "index=minsearch.Index(\n",
    "    text_fields=[\"question\", \"text\", \"section\"],\n",
    "    keyword_fields= [\"course\"]\n",
    ")"
   ]
  },
  {
   "cell_type": "code",
   "execution_count": 50,
   "id": "d5d41361-476a-4813-add6-d14f5ed2ce78",
   "metadata": {},
   "outputs": [],
   "source": [
    "#q= 'the course has already started, can I still enroll?'"
   ]
  },
  {
   "cell_type": "code",
   "execution_count": null,
   "id": "7ca9060d-82af-4ffd-b34a-551a99df6990",
   "metadata": {},
   "outputs": [],
   "source": []
  },
  {
   "cell_type": "code",
   "execution_count": 51,
   "id": "4570e454-ede3-45b3-9765-ba467a7bf6b7",
   "metadata": {},
   "outputs": [
    {
     "data": {
      "text/plain": [
       "<minsearch.Index at 0x77c252b53ad0>"
      ]
     },
     "execution_count": 51,
     "metadata": {},
     "output_type": "execute_result"
    }
   ],
   "source": [
    "index.fit(documents)"
   ]
  },
  {
   "cell_type": "code",
   "execution_count": 52,
   "id": "2c8814a4-03c4-429c-981f-a19c36ffdcbc",
   "metadata": {},
   "outputs": [],
   "source": [
    "#results"
   ]
  },
  {
   "cell_type": "code",
   "execution_count": 53,
   "id": "d74232f0-8048-4071-b83c-e6e6b758d8d4",
   "metadata": {},
   "outputs": [],
   "source": [
    "import  ollama"
   ]
  },
  {
   "cell_type": "code",
   "execution_count": 54,
   "id": "1877621b-2df6-4ba3-9f8a-807170d2966a",
   "metadata": {},
   "outputs": [],
   "source": [
    "#!ollama pull phi3"
   ]
  },
  {
   "cell_type": "code",
   "execution_count": 55,
   "id": "1471b417-45b9-4754-b860-8f5311d1d695",
   "metadata": {
    "scrolled": true
   },
   "outputs": [],
   "source": [
    "#!ollama pull mistral"
   ]
  },
  {
   "cell_type": "code",
   "execution_count": 56,
   "id": "570d88cc-dfee-437f-a225-27f9855051a1",
   "metadata": {},
   "outputs": [],
   "source": [
    "from openai import OpenAI"
   ]
  },
  {
   "cell_type": "code",
   "execution_count": 57,
   "id": "2bb23af5-20ca-48e5-a826-b8b6bf27b340",
   "metadata": {},
   "outputs": [],
   "source": [
    "client = OpenAI(\n",
    "    base_url='http://localhost:11434/v1',\n",
    "    api_key='ollama'  # required, but unused\n",
    ")"
   ]
  },
  {
   "cell_type": "code",
   "execution_count": 58,
   "id": "f29d617e-6cee-4ca1-bc5d-232074a1db45",
   "metadata": {},
   "outputs": [],
   "source": [
    "#print(prompt)"
   ]
  },
  {
   "cell_type": "code",
   "execution_count": 59,
   "id": "ac89d28e-ffd3-48cd-9e99-a02c2765fe92",
   "metadata": {},
   "outputs": [],
   "source": [
    "def search(query):\n",
    "    boost = {'question': 3.0, 'section': 0.5}\n",
    "\n",
    "    results=index.search(\n",
    "        query = query,\n",
    "        filter_dict={'course':'data-engineering-zoomcamp'},\n",
    "        boost_dict=boost, \n",
    "        num_results=5\n",
    "    )\n",
    "\n",
    "    return results"
   ]
  },
  {
   "cell_type": "code",
   "execution_count": 60,
   "id": "e8cd5ac2-2e94-4d0d-9adb-3e41a01b1ffc",
   "metadata": {},
   "outputs": [],
   "source": [
    "def build_prompt(query, search_results):\n",
    "    prompt_template = \"\"\"\n",
    "You're a course teaching assistant. Answer the QESTION based on the CONTEXT from the FAQ database. \n",
    "Use only the facts from the CONTEXT when answering the QUESTION. \n",
    "\n",
    "QUESTION : {question}\n",
    "\n",
    "CONTEXT:\n",
    "{context}\n",
    "\"\"\".strip()\n",
    "\n",
    "    context = \"\"\n",
    "    \n",
    "    for doc in search_results:\n",
    "         context = context + f\"section: {doc['section']}\\nquestion: {doc['question']}\\nanswer: {doc['text']}\\n\\n\"\n",
    "    \n",
    "    prompt=prompt_template.format(question=query, context=context).strip()\n",
    "    return prompt"
   ]
  },
  {
   "cell_type": "code",
   "execution_count": 61,
   "id": "1ac72ec7-c422-48be-b54e-0407a79644f0",
   "metadata": {},
   "outputs": [],
   "source": [
    "def llm(prompt):\n",
    "    response = client .chat.completions.create(\n",
    "           model=\"phi3\",\n",
    "           messages=[{\"role\":\"user\", \"content\":prompt}]\n",
    "    )\n",
    "    \n",
    "    return response.choices[0].message.content"
   ]
  },
  {
   "cell_type": "code",
   "execution_count": 62,
   "id": "d3719910-db0d-44b9-a3dc-26a63e280405",
   "metadata": {},
   "outputs": [],
   "source": [
    "query= 'how do I run kafka? '\n",
    "\n",
    "\n"
   ]
  },
  {
   "cell_type": "code",
   "execution_count": null,
   "id": "79ec70ae-99ed-4dd8-9f9c-bc01e85d4535",
   "metadata": {},
   "outputs": [],
   "source": []
  },
  {
   "cell_type": "code",
   "execution_count": 28,
   "id": "b33b4c85-c0fd-4f2f-9027-52561e018d3c",
   "metadata": {},
   "outputs": [
    {
     "data": {
      "text/plain": [
       "\" To run Kafka in the terminal, you need to ensure that your Java project setup for streaming with Kafka is correct. However, based on the provided CONTEXT from Module 6 of our FAQ database, it doesn't directly state how to run a Kafka producer/consumer using the terminal command line but does give instructions to start a Java application involving Kafka:\\n\\nIn your project directory, you should first set up your Java environment correctly. Assuming 'build/libs/' holds your necessary jar files for running a Kafka-related Java application, you might need something similar to this in your terminal:\\n\\n```bash\\njava -cp build/libs/*-SNAPSHOT.jar:out yourJavaClassName\\n```\\n\\nReplace `yourJavaClassName` with the actual class that includes your producer or consumer logic for Kafka. However, please note that without specific details on the application code and dependencies within 'build/libs/' directory, I can only provide a general example as per the FAQ's format. The exact command will vary based on the structure of your project and which jar files you need to include in your classpath.\\n\\nFor running Kafka streams with Java Stream API (kstreams), specific startup commands for such applications are not provided in the given CONTEXT, as it may involve different setup steps like configuring a Kafka producer/consumer within the application code using external dependencies or classes. For detailed instructions on starting up a Kafka-related Java project specifically involving kstreams, refer to your project's documentation or development guidelines.\""
      ]
     },
     "execution_count": 28,
     "metadata": {},
     "output_type": "execute_result"
    }
   ],
   "source": [
    "rag(query)"
   ]
  },
  {
   "cell_type": "code",
   "execution_count": 63,
   "id": "8b5df9b0-ecd8-440b-8031-e2fff8af0b86",
   "metadata": {},
   "outputs": [
    {
     "data": {
      "text/plain": [
       "{'text': \"The purpose of this document is to capture frequently asked technical questions\\nThe exact day and hour of the course will be 15th Jan 2024 at 17h00. The course will start with the first  “Office Hours'' live.1\\nSubscribe to course public Google Calendar (it works from Desktop only).\\nRegister before the course starts using this link.\\nJoin the course Telegram channel with announcements.\\nDon’t forget to register in DataTalks.Club's Slack and join the channel.\",\n",
       " 'section': 'General course-related questions',\n",
       " 'question': 'Course - When will the course start?',\n",
       " 'course': 'data-engineering-zoomcamp'}"
      ]
     },
     "execution_count": 63,
     "metadata": {},
     "output_type": "execute_result"
    }
   ],
   "source": [
    "documents[0]"
   ]
  },
  {
   "cell_type": "code",
   "execution_count": 83,
   "id": "75c2d29f-d6e4-40cd-95b4-0b01f653bf10",
   "metadata": {},
   "outputs": [],
   "source": [
    "from elasticsearch import Elasticsearch\n"
   ]
  },
  {
   "cell_type": "code",
   "execution_count": 84,
   "id": "d1baf185-41d2-472e-8b47-e7b9997273db",
   "metadata": {},
   "outputs": [],
   "source": [
    "es_client= Elasticsearch('http://localhost:9200')"
   ]
  },
  {
   "cell_type": "code",
   "execution_count": 85,
   "id": "c4382b47-b32e-4297-b5ce-51d39838f239",
   "metadata": {},
   "outputs": [
    {
     "data": {
      "text/plain": [
       "ObjectApiResponse({'acknowledged': True, 'shards_acknowledged': True, 'index': 'course-questions'})"
      ]
     },
     "execution_count": 85,
     "metadata": {},
     "output_type": "execute_result"
    }
   ],
   "source": [
    "index_settings= {\n",
    "    \"settings\": {\n",
    "        \"number_of_shards\": 1,\n",
    "        \"number_of_replicas\": 0\n",
    "    },\n",
    "    \"mappings\": {\n",
    "        \"properties\": {\n",
    "            \"text\": {\"type\": \"text\"},\n",
    "            \"section\": {\"type\": \"text\"},\n",
    "            \"question\": {\"type\": \"text\"},\n",
    "            \"course\": {\"type\": \"keyword\"} \n",
    "        }\n",
    "    }\n",
    "}\n",
    "\n",
    "index_name = \"course-questions\"\n",
    "es_client.indices.create(index= index_name , body=index_settings)"
   ]
  },
  {
   "cell_type": "code",
   "execution_count": 88,
   "id": "428ce44a-0c81-46c6-a75f-e547f1aa0e41",
   "metadata": {},
   "outputs": [
    {
     "name": "stdout",
     "output_type": "stream",
     "text": [
      "Requirement already satisfied: tqdm in /home/codespace/anaconda3/lib/python3.11/site-packages (4.65.0)\n"
     ]
    }
   ],
   "source": [
    "!pip install tqdm"
   ]
  },
  {
   "cell_type": "code",
   "execution_count": 89,
   "id": "de1d6253-ca48-4528-ba55-42d91b5182d4",
   "metadata": {},
   "outputs": [],
   "source": [
    "from tqdm import tqdm\n"
   ]
  },
  {
   "cell_type": "code",
   "execution_count": 90,
   "id": "8b4d9dfa-29c3-49df-a44a-cc258863e57c",
   "metadata": {},
   "outputs": [
    {
     "name": "stderr",
     "output_type": "stream",
     "text": [
      "100%|███████████████████████████████████████████████████████████████████████████████████████████████████████████████████████████████| 948/948 [00:27<00:00, 34.35it/s]\n"
     ]
    }
   ],
   "source": [
    "for doc in tqdm(documents) :\n",
    "    es_client.index(index= index_name , document=doc )"
   ]
  },
  {
   "cell_type": "code",
   "execution_count": 99,
   "id": "8f5a00f9-fbea-4870-a80f-a33e76eb6439",
   "metadata": {},
   "outputs": [],
   "source": [
    "query= 'I just discovered the course. Can I still join it?'"
   ]
  },
  {
   "cell_type": "code",
   "execution_count": 104,
   "id": "d56610f0-c236-48b9-be0c-2b59a21a3372",
   "metadata": {},
   "outputs": [],
   "source": [
    "def elastic_search(query):\n",
    "    search_query={\n",
    "        \"size\": 5,\n",
    "        \"query\": {\n",
    "            \"bool\": {\n",
    "                \"must\": {\n",
    "                    \"multi_match\": {\n",
    "                        \"query\": query,\n",
    "                        \"fields\": [\"question^3\", \"text\", \"section\"],\n",
    "                        \"type\": \"best_fields\"\n",
    "                    }\n",
    "                },\n",
    "                \"filter\": {\n",
    "                    \"term\": {\n",
    "                        \"course\": \"data-engineering-zoomcamp\"\n",
    "                    }\n",
    "                }\n",
    "            }\n",
    "        }\n",
    "    }\n",
    "\n",
    "    response= es_client.search(index=index_name, body=search_query)\n",
    "    \n",
    "    result_docs= []\n",
    "    \n",
    "    for hit in response['hits']['hits']:\n",
    "        result_docs.append(hit['_source'])\n",
    "    \n",
    "    return result_docs"
   ]
  },
  {
   "cell_type": "code",
   "execution_count": 101,
   "id": "991b6f4d-5b35-4cdd-bf6a-f4e7d49b9476",
   "metadata": {},
   "outputs": [],
   "source": []
  },
  {
   "cell_type": "code",
   "execution_count": 106,
   "id": "e9c20473-3064-4216-9e59-ba099e726e8f",
   "metadata": {},
   "outputs": [
    {
     "data": {
      "text/plain": [
       "[{'text': \"Yes, even if you don't register, you're still eligible to submit the homeworks.\\nBe aware, however, that there will be deadlines for turning in the final projects. So don't leave everything for the last minute.\",\n",
       "  'section': 'General course-related questions',\n",
       "  'question': 'Course - Can I still join the course after the start date?',\n",
       "  'course': 'data-engineering-zoomcamp'},\n",
       " {'text': \"Yes, even if you don't register, you're still eligible to submit the homeworks.\\nBe aware, however, that there will be deadlines for turning in the final projects. So don't leave everything for the last minute.\",\n",
       "  'section': 'General course-related questions',\n",
       "  'question': 'Course - Can I still join the course after the start date?',\n",
       "  'course': 'data-engineering-zoomcamp'},\n",
       " {'text': 'Yes, we will keep all the materials after the course finishes, so you can follow the course at your own pace after it finishes.\\nYou can also continue looking at the homeworks and continue preparing for the next cohort. I guess you can also start working on your final capstone project.',\n",
       "  'section': 'General course-related questions',\n",
       "  'question': 'Course - Can I follow the course after it finishes?',\n",
       "  'course': 'data-engineering-zoomcamp'},\n",
       " {'text': 'Yes, we will keep all the materials after the course finishes, so you can follow the course at your own pace after it finishes.\\nYou can also continue looking at the homeworks and continue preparing for the next cohort. I guess you can also start working on your final capstone project.',\n",
       "  'section': 'General course-related questions',\n",
       "  'question': 'Course - Can I follow the course after it finishes?',\n",
       "  'course': 'data-engineering-zoomcamp'},\n",
       " {'text': 'You can start by installing and setting up all the dependencies and requirements:\\nGoogle cloud account\\nGoogle Cloud SDK\\nPython 3 (installed with Anaconda)\\nTerraform\\nGit\\nLook over the prerequisites and syllabus to see if you are comfortable with these subjects.',\n",
       "  'section': 'General course-related questions',\n",
       "  'question': 'Course - What can I do before the course starts?',\n",
       "  'course': 'data-engineering-zoomcamp'}]"
      ]
     },
     "execution_count": 106,
     "metadata": {},
     "output_type": "execute_result"
    }
   ],
   "source": [
    "elastic_search(query)"
   ]
  },
  {
   "cell_type": "code",
   "execution_count": 107,
   "id": "62e6fb90-11be-49ed-a6aa-4e1b64c6277f",
   "metadata": {},
   "outputs": [],
   "source": [
    "def rag(query):\n",
    "    search_results = elastic_search(query)\n",
    "    prompt=build_prompt(query, search_results)\n",
    "    answer= llm(prompt)\n",
    "    return answer"
   ]
  },
  {
   "cell_type": "code",
   "execution_count": 108,
   "id": "f90ef778-cab6-4d89-b0fd-2d10433e7ed3",
   "metadata": {},
   "outputs": [
    {
     "data": {
      "text/plain": [
       "\" Yes, even if you don't register before the start date of the course, you can still join by submitting homeworks as there will be deadlines for turning in final projects. However, it is recommended not to leave everything until the last minute.\\n\\nAdditionally, after the course finishes, we keep all the materials available and allow you to follow the course at your own pace, including working on your final capstone project and looking at homeworks as preparation for the next cohort.\""
      ]
     },
     "execution_count": 108,
     "metadata": {},
     "output_type": "execute_result"
    }
   ],
   "source": [
    "rag(query)"
   ]
  },
  {
   "cell_type": "code",
   "execution_count": null,
   "id": "83cb2dc6-640e-4e83-adc6-761acca9b1f7",
   "metadata": {},
   "outputs": [],
   "source": []
  }
 ],
 "metadata": {
  "kernelspec": {
   "display_name": "Python 3 (ipykernel)",
   "language": "python",
   "name": "python3"
  },
  "language_info": {
   "codemirror_mode": {
    "name": "ipython",
    "version": 3
   },
   "file_extension": ".py",
   "mimetype": "text/x-python",
   "name": "python",
   "nbconvert_exporter": "python",
   "pygments_lexer": "ipython3",
   "version": "3.11.7"
  }
 },
 "nbformat": 4,
 "nbformat_minor": 5
}
