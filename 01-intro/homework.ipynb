{
 "cells": [
  {
   "cell_type": "code",
   "execution_count": 1,
   "id": "73b15b4a-c399-40e8-a5a1-2d3d5aaa788b",
   "metadata": {},
   "outputs": [],
   "source": [
    "import  ollama"
   ]
  },
  {
   "cell_type": "code",
   "execution_count": 7,
   "id": "08bd58e2-9d13-4085-a747-d8430497f286",
   "metadata": {},
   "outputs": [],
   "source": [
    "client = OpenAI()"
   ]
  },
  {
   "cell_type": "code",
   "execution_count": 3,
   "id": "45719e93-6137-4108-805a-c26a07c209b6",
   "metadata": {},
   "outputs": [],
   "source": [
    "response = ollama.chat(\n",
    "           model=\"mistral\",\n",
    "           messages=[{\"role\":\"user\", \"content\":\" why the sky is blue?\"}])"
   ]
  },
  {
   "cell_type": "code",
   "execution_count": 40,
   "id": "d6a85c45-be2b-46da-a89a-e0d33d676660",
   "metadata": {},
   "outputs": [
    {
     "name": "stdout",
     "output_type": "stream",
     "text": [
      " The sky appears blue to us due to a phenomenon called Rayleigh scattering. When sunlight reaches Earth's atmosphere, it encounters molecules and small particles in the air such as nitrogen and oxygen. Sunlight consists of various colors or wavelengths, each associated with different energy levels.\n",
      "\n",
      "When white light from the sun passes through the atmosphere, shorter blue wavelengths are scattered more than longer red wavelengths by these gas molecules. This scattering causes the blue light to be distributed across the sky in all directions. Our eyes then perceive this dispersed blue light as a blue sky during daytime and clear weather conditions.\n",
      "\n",
      "As an additional note, when the sun is near the horizon (during sunrise or sunset), its rays have to pass through more atmosphere before reaching our eyes. As a result of this increased distance, even longer wavelength colors like red and orange are scattered and become more visible, resulting in the beautiful reddish hues we see during these times.\n"
     ]
    }
   ],
   "source": [
    "print(response['message']['content'])"
   ]
  },
  {
   "cell_type": "code",
   "execution_count": null,
   "id": "44d06fd4-72f4-497d-9385-e62b2c5390aa",
   "metadata": {},
   "outputs": [],
   "source": []
  }
 ],
 "metadata": {
  "kernelspec": {
   "display_name": "Python 3 (ipykernel)",
   "language": "python",
   "name": "python3"
  },
  "language_info": {
   "codemirror_mode": {
    "name": "ipython",
    "version": 3
   },
   "file_extension": ".py",
   "mimetype": "text/x-python",
   "name": "python",
   "nbconvert_exporter": "python",
   "pygments_lexer": "ipython3",
   "version": "3.11.7"
  }
 },
 "nbformat": 4,
 "nbformat_minor": 5
}
